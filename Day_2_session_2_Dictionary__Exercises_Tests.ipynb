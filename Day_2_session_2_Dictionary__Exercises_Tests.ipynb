{
  "nbformat": 4,
  "nbformat_minor": 0,
  "metadata": {
    "colab": {
      "name": "Day 2  session 2_Dictionary _Exercises_Tests.ipynb",
      "provenance": [],
      "collapsed_sections": [],
      "authorship_tag": "ABX9TyO3VbfeW1S7naDdmf0kwMqF",
      "include_colab_link": true
    },
    "kernelspec": {
      "name": "python3",
      "display_name": "Python 3"
    }
  },
  "cells": [
    {
      "cell_type": "markdown",
      "metadata": {
        "id": "view-in-github",
        "colab_type": "text"
      },
      "source": [
        "<a href=\"https://colab.research.google.com/github/dipticollege24/PYTHON_DATA/blob/master/Day_2_session_2_Dictionary__Exercises_Tests.ipynb\" target=\"_parent\"><img src=\"https://colab.research.google.com/assets/colab-badge.svg\" alt=\"Open In Colab\"/></a>"
      ]
    },
    {
      "cell_type": "code",
      "metadata": {
        "id": "iXwJONza-yMj",
        "colab_type": "code",
        "colab": {
          "base_uri": "https://localhost:8080/",
          "height": 136
        },
        "outputId": "c96ab550-1d01-4fba-fbeb-6a2c60d9181b"
      },
      "source": [
        "#Add rollno and marks {name:mark} for n number of students through keyboard in a dictionary and print the marks in descending order with respective name.\n",
        "n=int(input(\"Enter no of records\"))\n",
        "d={}\n",
        "for i in range(1,n+1):\n",
        "  name= input(\"Enter name %s\"%(i))\n",
        "  mark=int(input(\"Enter mark %d\"%(i)))\n",
        "  d[name]=mark\n",
        "print (d)\n",
        "import operator\n",
        "sorted_a= sorted(d.items(), key=operator.itemgetter(1),reverse=True)\n",
        "print(sorted_a)\n"
      ],
      "execution_count": 4,
      "outputs": [
        {
          "output_type": "stream",
          "text": [
            "Enter no of records2\n",
            "Enter name 1ssss\n",
            "Enter mark 12\n",
            "Enter name 2fdd\n",
            "Enter mark 245\n",
            "{'ssss': 2, 'fdd': 45}\n",
            "[('fdd', 45), ('ssss', 2)]\n"
          ],
          "name": "stdout"
        }
      ]
    },
    {
      "cell_type": "code",
      "metadata": {
        "id": "QlnTpy8fBVvk",
        "colab_type": "code",
        "colab": {
          "base_uri": "https://localhost:8080/",
          "height": 170
        },
        "outputId": "33dc796c-33db-40c8-ae40-6c7a9f5fe851"
      },
      "source": [
        "#Add  name and salary {name:salary} for n number of employees through keyboard in a dictionary and print them in name alphabetical order with salary\n",
        "n=int(input(\"Enter no of Employees\"))\n",
        "d={}\n",
        "for i in range(1,n+1):\n",
        "  name= input(\"Enter name %s\"%(i))\n",
        "  sal=int(input(\"Enter Salary %d\"%(i)))\n",
        "  d[name]=sal\n",
        "print (d)\n",
        "import operator\n",
        "sorted_a= sorted(d.items(), key=operator.itemgetter(0))\n",
        "print(sorted_a)\n"
      ],
      "execution_count": 5,
      "outputs": [
        {
          "output_type": "stream",
          "text": [
            "Enter no of records3\n",
            "Enter name 1dipti\n",
            "Enter Salary 123\n",
            "Enter name 2amita\n",
            "Enter Salary 225\n",
            "Enter name 3bablu\n",
            "Enter Salary 323\n",
            "{'dipti': 23, 'amita': 25, 'bablu': 23}\n",
            "[('amita', 25), ('bablu', 23), ('dipti', 23)]\n"
          ],
          "name": "stdout"
        }
      ]
    },
    {
      "cell_type": "code",
      "metadata": {
        "id": "z07KeWo8CQOv",
        "colab_type": "code",
        "colab": {}
      },
      "source": [
        ""
      ],
      "execution_count": null,
      "outputs": []
    },
    {
      "cell_type": "markdown",
      "metadata": {
        "id": "hbcDqrEvCY2C",
        "colab_type": "text"
      },
      "source": [
        "3.\tAdd  name and salary {name:salary} for n number of employees through keyboard in a dictionary and print them in salary  ascending order and sum, max, min and average of the salaries"
      ]
    },
    {
      "cell_type": "code",
      "metadata": {
        "id": "eMl0BtxqCafh",
        "colab_type": "code",
        "colab": {
          "base_uri": "https://localhost:8080/",
          "height": 272
        },
        "outputId": "3bf27126-c4ed-4a70-80f7-04a999140c44"
      },
      "source": [
        "n=int(input(\"Enter no of Employees\"))\n",
        "d={}\n",
        "for i in range(1,n+1):\n",
        "  name= input(\"Enter name %s\"%(i))\n",
        "  sal=int(input(\"Enter Salary %d\"%(i)))\n",
        "  d[name]=sal\n",
        "print (d)\n",
        "import operator\n",
        "sorted_a= sorted(d.items(), key=operator.itemgetter(1))\n",
        "print(sorted_a)\n",
        "print(\"sum of Salary\")\n",
        "print(sum(d.values()))\n",
        "print(\"Maximum Salary\")\n",
        "print(max(d.values()))\n",
        "print(\"Minimum Salary\")\n",
        "print(min(d.values()))"
      ],
      "execution_count": 6,
      "outputs": [
        {
          "output_type": "stream",
          "text": [
            "Enter no of Employees3\n",
            "Enter name 1dipti\n",
            "Enter Salary 123\n",
            "Enter name 2radha\n",
            "Enter Salary 234000\n",
            "Enter name 3Bablu\n",
            "Enter Salary 345000\n",
            "{'dipti': 23, 'radha': 34000, 'Bablu': 45000}\n",
            "[('dipti', 23), ('radha', 34000), ('Bablu', 45000)]\n",
            "sum of Salary\n",
            "79023\n",
            "Maximum Salary\n",
            "45000\n",
            "Minimum Salary\n",
            "23\n"
          ],
          "name": "stdout"
        }
      ]
    },
    {
      "cell_type": "markdown",
      "metadata": {
        "id": "SLXtkOToD8DL",
        "colab_type": "text"
      },
      "source": [
        "4.\tAdd name and salary {name:salary} for n number of employees through keyboard in a dictionary and print only the employees whose salary is greater than 2000 but less than 4000"
      ]
    },
    {
      "cell_type": "code",
      "metadata": {
        "id": "mIIaC59lD_IY",
        "colab_type": "code",
        "colab": {
          "base_uri": "https://localhost:8080/",
          "height": 238
        },
        "outputId": "7df7798c-7e86-4e96-d14c-73ccdde397e2"
      },
      "source": [
        "n=int(input(\"Enter no of Employees\"))\n",
        "d={}\n",
        "for i in range(1,n+1):\n",
        "  name= input(\"Enter name %s\"%(i))\n",
        "  sal=int(input(\"Enter Salary %d\"%(i)))\n",
        "  d[name]=sal\n",
        "#print (d)\n",
        "#print greater than 2000 but less than 4000\n",
        "for (k,v) in d.items():\n",
        "  if(d[k]>2000 and d[k]<4000):\n",
        "    print(k,\"==>\",v)"
      ],
      "execution_count": 8,
      "outputs": [
        {
          "output_type": "stream",
          "text": [
            "Enter no of Employees5\n",
            "Enter name 1dddd\n",
            "Enter Salary 11000\n",
            "Enter name 2aaaaa\n",
            "Enter Salary 212000\n",
            "Enter name 3cccc\n",
            "Enter Salary 33400\n",
            "Enter name 4dddd\n",
            "Enter Salary 44000\n",
            "Enter name 5eeee\n",
            "Enter Salary 52000\n",
            "{'dddd': 4000, 'aaaaa': 12000, 'cccc': 3400, 'eeee': 2000}\n",
            "cccc ==> 3400\n"
          ],
          "name": "stdout"
        }
      ]
    },
    {
      "cell_type": "markdown",
      "metadata": {
        "id": "H-TX0l6uFB7f",
        "colab_type": "text"
      },
      "source": [
        "5.\tPython program to convert a 3 digit number  into words"
      ]
    },
    {
      "cell_type": "code",
      "metadata": {
        "id": "dGo9sCa7FFyK",
        "colab_type": "code",
        "colab": {
          "base_uri": "https://localhost:8080/",
          "height": 68
        },
        "outputId": "d329dbde-bfe8-4d9f-afc4-c977f07e10f7"
      },
      "source": [
        "d={0:'',1:'one',2:'two',3:'three',4:'four',5:'five',6:'six',7:'seven',8:'eight',9:'nine',\\\n",
        "10:'ten',11:'eleven',12:'twelve',13:'thirteen',14:'fourteen',15:'fifteen',16:'sixteen',\\\n",
        "17:'seventeen',18:'eightteen',19:'nineteen',20:'twenty',30:'thirty',40:'fourty',50:'fifty',\\\n",
        "60:'sixty',70:'seventy',80:'eighty',90:'ninty'}\n",
        "num=int(input(\"Enter the integer between 1 to 99:\"))\n",
        "if (num<=20):\n",
        "  print(d[num])\n",
        "if(num>20 and num<100):\n",
        "  if num%10==0:\n",
        "    print(d[num])\n",
        "  else:\n",
        "    print(d[num//10*10]+\"\"+d[num%10])\n",
        "if(num>100 and num<999):\n",
        "   if num%100==0:\n",
        "    print(d[num/100],\"Hundred\")\n",
        "   else:\n",
        "    print(d[num//100],\"Hundred\")\n",
        "    print(d[(num//10)%10*10]+\"\"+d[num%10])\n"
      ],
      "execution_count": 31,
      "outputs": [
        {
          "output_type": "stream",
          "text": [
            "Enter the integer between 1 to 99:110\n",
            "one Hundred\n",
            "ten\n"
          ],
          "name": "stdout"
        }
      ]
    }
  ]
}